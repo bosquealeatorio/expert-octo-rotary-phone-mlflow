{
 "cells": [
  {
   "cell_type": "markdown",
   "metadata": {},
   "source": [
    "# Introduction to Mlflow Experiments "
   ]
  },
  {
   "cell_type": "markdown",
   "metadata": {},
   "source": [
    "Let's say we want  to train a regression model and get some evaluation metrics"
   ]
  },
  {
   "cell_type": "code",
   "execution_count": 1,
   "metadata": {},
   "outputs": [],
   "source": [
    "import setuptools\n",
    "import mlflow\n",
    "\n",
    "from sklearn.model_selection import train_test_split\n",
    "from sklearn.datasets import load_diabetes\n",
    "from sklearn.ensemble import RandomForestRegressor\n",
    "from sklearn.metrics import mean_squared_error, r2_score\n",
    "\n",
    "import pandas as pd\n",
    "import matplotlib.pyplot as plt"
   ]
  },
  {
   "cell_type": "code",
   "execution_count": 2,
   "metadata": {},
   "outputs": [
    {
     "name": "stdout",
     "output_type": "stream",
     "text": [
      "Train MSE: 1369.173375211773\n",
      "Test MSE: 3071.49222324288\n",
      "Train R2: 0.7643418594157952\n",
      "Test R2: 0.5114756707582411\n"
     ]
    }
   ],
   "source": [
    "# Load dataset\n",
    "db = load_diabetes(as_frame=True)\n",
    "X_train, X_test, y_train, y_test = train_test_split(db.data, db.target)\n",
    "\n",
    "# Create and train models\n",
    "params={\n",
    "    'n_estimators':100, \n",
    "    'max_depth':6, \n",
    "    'max_features':3\n",
    "}\n",
    "\n",
    "rf = RandomForestRegressor(**params)\n",
    "rf.fit(X_train, y_train)\n",
    "\n",
    "# Calculate train and test metrics\n",
    "y_train_pred=rf.predict(X_train)\n",
    "y_test_pred=rf.predict(X_test)\n",
    "\n",
    "print(f'Train MSE: {mean_squared_error(y_train, y_train_pred)}')\n",
    "print(f'Test MSE: {mean_squared_error(y_test, y_test_pred)}')\n",
    "\n",
    "print(f'Train R2: {r2_score(y_train, y_train_pred)}')\n",
    "print(f'Test R2: {r2_score(y_test, y_test_pred)}')"
   ]
  },
  {
   "cell_type": "markdown",
   "metadata": {},
   "source": [
    "Training one single model and printing metrics is very easy \n",
    "\n",
    "<img src='https://media.tenor.com/V0CO2bx1698AAAAM/entusiasmo.gif'>"
   ]
  },
  {
   "cell_type": "markdown",
   "metadata": {},
   "source": [
    "However, over the course of the machine learning lifecycle, data scientists and MLEs (_you_) may test many different models\n",
    "- Using various libraries like `sklearn`, `sparkML`, `pytorch`, `tensorflow`\n",
    "- Each with different algorithms and hyperparameters\n",
    "- Each generating different evaluation metrics\n",
    "- And perhaps at the end you would like to ship the best model to a production environment \n",
    "\n",
    "In the past, you would have to **manually** keep track of the many models you created, as well as their associated parameters and metrics. \n",
    "\n",
    "While possible, this is tedious, takes up valuable time, and, frankly, **nobody wants to do it**"
   ]
  },
  {
   "cell_type": "markdown",
   "metadata": {},
   "source": [
    "<img src='https://i.ibb.co/YBR73Zr/IMG-3047.jpg' width=500> "
   ]
  },
  {
   "cell_type": "markdown",
   "metadata": {},
   "source": [
    "Enter, **MlFlow**. \n",
    "\n",
    "At its core, it provides a suite of tools aimed at simplifying the complete ML workflow from development to deployment.\n"
   ]
  },
  {
   "cell_type": "markdown",
   "metadata": {},
   "source": [
    "### MLflow Tracking\n",
    "MLflow Tracking is a logging API specific for machine learning organized around the concept of **runs**, which are executions of data science code\n",
    "\n",
    "**runs** are aggregated into **experiments** where many runs can be a part of a given experiment\n",
    "\n",
    "Each run can record the following information:\n",
    "- **Parameters**: Key-value pairs of input parameters such as the number of trees in a random forest model\n",
    "- **Metrics**: Evaluation metrics such as RMSE or Area Under the ROC Curve\n",
    "- **Artifacts**: Arbitrary output files in any format. This can include images, pickled models, and data files\n",
    "- **Source**: The code that originally ran the experiment"
   ]
  },
  {
   "cell_type": "markdown",
   "metadata": {},
   "source": [
    "Let's train and log a model, metrics and parameters"
   ]
  },
  {
   "cell_type": "code",
   "execution_count": 3,
   "metadata": {},
   "outputs": [
    {
     "name": "stdout",
     "output_type": "stream",
     "text": [
      "Inside run ID: e3d7fe95a0ff412a934814fbc39d14fd\n"
     ]
    },
    {
     "name": "stderr",
     "output_type": "stream",
     "text": [
      "/Users/manuelmontoya/.local/lib/python3.10/site-packages/_distutils_hack/__init__.py:33: UserWarning: Setuptools is replacing distutils.\n",
      "  warnings.warn(\"Setuptools is replacing distutils.\")\n"
     ]
    }
   ],
   "source": [
    "with mlflow.start_run(run_name=\"first-model-log\") as run:\n",
    "\n",
    "    print(f\"Inside run ID: {run.info.run_id}\")\n",
    "\n",
    "    # Load dataset\n",
    "    db = load_diabetes(as_frame=True)\n",
    "    X_train, X_test, y_train, y_test = train_test_split(db.data, db.target)\n",
    "\n",
    "    # Create and train a model\n",
    "    params = {\n",
    "        \"n_estimators\": 100, \n",
    "        \"max_depth\": 6, \n",
    "        \"max_features\": 3\n",
    "    }\n",
    "\n",
    "    rf = RandomForestRegressor(**params)\n",
    "    rf.fit(X_train, y_train)\n",
    "\n",
    "    # Calculate train and test metrics\n",
    "    y_train_pred = rf.predict(X_train)\n",
    "    y_test_pred = rf.predict(X_test)\n",
    "\n",
    "    train_mse = mean_squared_error(y_train, y_train_pred)\n",
    "    test_mse = mean_squared_error(y_test, y_test_pred)\n",
    "    train_r2 = r2_score(y_train, y_train_pred)\n",
    "    test_r2 = r2_score(y_test, y_test_pred)\n",
    "\n",
    "    ####################################################\n",
    "    # Here's the fun part\n",
    "    ####################################################\n",
    "\n",
    "    # log model artifact\n",
    "    mlflow.sklearn.log_model(sk_model=rf, artifact_path=\"random_forest\")\n",
    "\n",
    "    # log metrics\n",
    "    metrics = {\n",
    "        \"train_mse\": train_mse,\n",
    "        \"test_mse\": test_mse,\n",
    "        \"train_r2\": train_r2,\n",
    "        \"test_r2\": test_r2,\n",
    "    }\n",
    "\n",
    "    mlflow.log_metrics(metrics)\n",
    "\n",
    "    #log parameters\n",
    "    mlflow.log_params(params)"
   ]
  },
  {
   "cell_type": "markdown",
   "metadata": {},
   "source": [
    "Open the Mlflow UI with `mlflow ui` in a terminal and explore the logged experiment and run. If for some reason the default port (5000) is already in use you can specify the port with `mlflow ui -p PORT_NUMBER`"
   ]
  },
  {
   "cell_type": "markdown",
   "metadata": {},
   "source": [
    "Now, let's make a new run\n",
    "* with different parameters\n",
    "* not setting up a name for the run"
   ]
  },
  {
   "cell_type": "code",
   "execution_count": 4,
   "metadata": {},
   "outputs": [
    {
     "name": "stdout",
     "output_type": "stream",
     "text": [
      "Inside run ID: 57365c0445c34b5eaf2c423516cc57eb\n"
     ]
    }
   ],
   "source": [
    "with mlflow.start_run() as run:\n",
    "\n",
    "    print(f\"Inside run ID: {run.info.run_id}\")\n",
    "\n",
    "    # Load dataset\n",
    "    db = load_diabetes(as_frame=True)\n",
    "    X_train, X_test, y_train, y_test = train_test_split(db.data, db.target)\n",
    "\n",
    "    # Create and train a model\n",
    "    params = {\n",
    "        \"n_estimators\": 100, \n",
    "        \"max_depth\": 20, \n",
    "        \"max_features\": 10\n",
    "    }\n",
    "\n",
    "    rf = RandomForestRegressor(**params)\n",
    "    rf.fit(X_train, y_train)\n",
    "\n",
    "    # Calculate train and test metrics\n",
    "    y_train_pred = rf.predict(X_train)\n",
    "    y_test_pred = rf.predict(X_test)\n",
    "\n",
    "    train_mse = mean_squared_error(y_train, y_train_pred)\n",
    "    test_mse = mean_squared_error(y_test, y_test_pred)\n",
    "    train_r2 = r2_score(y_train, y_train_pred)\n",
    "    test_r2 = r2_score(y_test, y_test_pred)\n",
    "\n",
    "    # log model artifact\n",
    "    mlflow.sklearn.log_model(sk_model=rf, artifact_path=\"random_forest\")\n",
    "\n",
    "    # log metrics\n",
    "    metrics = {\n",
    "        \"train_mse\": train_mse,\n",
    "        \"test_mse\": test_mse,\n",
    "        \"train_r2\": train_r2,\n",
    "        \"test_r2\": test_r2,\n",
    "    }\n",
    "\n",
    "    mlflow.log_metrics(metrics)\n",
    "\n",
    "    #log parameters\n",
    "    mlflow.log_params(params)"
   ]
  },
  {
   "cell_type": "markdown",
   "metadata": {},
   "source": [
    "Again, let's refresh the UI and check new experiments/runs"
   ]
  },
  {
   "cell_type": "markdown",
   "metadata": {},
   "source": [
    "### Creating experiments\n",
    "\n",
    "Until now we have created runs without assigning them to an experiment. Everything was logged into a `default` experiment that serves as a safety net for all unassigned runs.\n",
    "\n",
    "However, it’s not recommended for regular use. Instead, create unique experiments for specific collections of runs."
   ]
  },
  {
   "cell_type": "code",
   "execution_count": 9,
   "metadata": {},
   "outputs": [],
   "source": [
    "from mlflow.client import MlflowClient\n",
    "\n",
    "client = MlflowClient()\n",
    "\n",
    "experiment_name=\"beautiful experiment\"\n",
    "\n",
    "# Provide an Experiment description \n",
    "experiment_description = (\n",
    "    \"This experiment contains all the runs made on the Breit demo\"\n",
    ")\n",
    "\n",
    "# Provide searchable tags that define characteristics of the Runs that\n",
    "# will be in this Experiment\n",
    "experiment_tags = {\n",
    "    \"project_name\": \"mlflow-chemms\",\n",
    "    \"team\": \"breit\",\n",
    "    \"mlflow.note.content\": experiment_description,\n",
    "}\n",
    "\n",
    "# Create the Experiment, providing a unique name\n",
    "experiment = client.create_experiment(\n",
    "    name=experiment_name, tags=experiment_tags\n",
    ")"
   ]
  },
  {
   "cell_type": "code",
   "execution_count": 10,
   "metadata": {},
   "outputs": [
    {
     "data": {
      "text/plain": [
       "[<Experiment: artifact_location='file:///Users/manuelmontoya/Documents/sessions/mlflow-experiments/mlruns/215632926819643538', creation_time=1708922702191, experiment_id='215632926819643538', last_update_time=1708922702191, lifecycle_stage='active', name='beautiful experiment', tags={'mlflow.note.content': 'This experiment contains all the runs made on the '\n",
       "                         'Breit demo',\n",
       "  'project_name': 'mlflow-chemms',\n",
       "  'team': 'breit'}>,\n",
       " <Experiment: artifact_location='file:///Users/manuelmontoya/Documents/sessions/mlflow-experiments/mlruns/528260813793614722', creation_time=1708922657897, experiment_id='528260813793614722', last_update_time=1708922657897, lifecycle_stage='active', name='Experiment Chemmsito', tags={'mlflow.note.content': 'This experiment contains all the runs made on the '\n",
       "                         'Breit demo',\n",
       "  'project_name': 'mlflow-chemms',\n",
       "  'team': 'breit'}>,\n",
       " <Experiment: artifact_location='file:///Users/manuelmontoya/Documents/sessions/mlflow-experiments/mlruns/0', creation_time=None, experiment_id='0', last_update_time=None, lifecycle_stage='active', name='Default', tags={}>]"
      ]
     },
     "execution_count": 10,
     "metadata": {},
     "output_type": "execute_result"
    }
   ],
   "source": [
    "client.search_experiments()"
   ]
  },
  {
   "cell_type": "code",
   "execution_count": 11,
   "metadata": {},
   "outputs": [
    {
     "name": "stdout",
     "output_type": "stream",
     "text": [
      "beautiful experiment :  215632926819643538\n",
      "Experiment Chemmsito :  528260813793614722\n",
      "Default :  0\n"
     ]
    }
   ],
   "source": [
    "for item in client.search_experiments():\n",
    "    print(item.name, ': ', item.experiment_id)\n",
    "    "
   ]
  },
  {
   "cell_type": "code",
   "execution_count": 12,
   "metadata": {},
   "outputs": [
    {
     "data": {
      "text/plain": [
       "'215632926819643538'"
      ]
     },
     "execution_count": 12,
     "metadata": {},
     "output_type": "execute_result"
    }
   ],
   "source": [
    "experiment_id = [exp for exp in client.search_experiments() if exp.name == experiment_name][0].experiment_id\n",
    "experiment_id"
   ]
  },
  {
   "cell_type": "code",
   "execution_count": 13,
   "metadata": {},
   "outputs": [
    {
     "name": "stdout",
     "output_type": "stream",
     "text": [
      "Inside run ID: af179ea022164d2e8862bdae3722f7f6\n"
     ]
    }
   ],
   "source": [
    "with mlflow.start_run(experiment_id=experiment_id) as run:\n",
    "\n",
    "    print(f\"Inside run ID: {run.info.run_id}\")\n",
    "\n",
    "    # Load dataset\n",
    "    db = load_diabetes(as_frame=True)\n",
    "    X_train, X_test, y_train, y_test = train_test_split(db.data, db.target)\n",
    "\n",
    "    # Create and train a model\n",
    "    params = {\n",
    "        \"n_estimators\": 100, \n",
    "        \"max_depth\": 20, \n",
    "        \"max_features\": 10\n",
    "    }\n",
    "\n",
    "    rf = RandomForestRegressor(**params)\n",
    "    rf.fit(X_train, y_train)\n",
    "\n",
    "    # Calculate train and test metrics\n",
    "    y_train_pred = rf.predict(X_train)\n",
    "    y_test_pred = rf.predict(X_test)\n",
    "\n",
    "    train_mse = mean_squared_error(y_train, y_train_pred)\n",
    "    test_mse = mean_squared_error(y_test, y_test_pred)\n",
    "    train_r2 = r2_score(y_train, y_train_pred)\n",
    "    test_r2 = r2_score(y_test, y_test_pred)\n",
    "\n",
    "    # log model artifact\n",
    "    mlflow.sklearn.log_model(sk_model=rf, artifact_path=\"random_forest\")\n",
    "\n",
    "    # log metrics\n",
    "    metrics = {\n",
    "        \"train_mse\": train_mse,\n",
    "        \"test_mse\": test_mse,\n",
    "        \"train_r2\": train_r2,\n",
    "        \"test_r2\": test_r2,\n",
    "    }\n",
    "\n",
    "    mlflow.log_metrics(metrics)\n",
    "\n",
    "    #log parameters\n",
    "    mlflow.log_params(params)"
   ]
  },
  {
   "cell_type": "markdown",
   "metadata": {},
   "source": [
    "### Access run elements\n",
    "\n",
    "Can we access the logged elements? **Of course we can**, we just have to search through our runs\n",
    "\n",
    "<img src=\"https://thefader-res.cloudinary.com/private_images/c_limit,w_1024/c_crop,h_400,w_768,x_0,y_70,f_auto,q_auto:eco/DYsRzMgVQAEblU6_gbapjp/DYsRzMgVQAEblU6_gbapjp.jpg\">\n"
   ]
  },
  {
   "cell_type": "code",
   "execution_count": 14,
   "metadata": {},
   "outputs": [
    {
     "data": {
      "text/plain": [
       "[<Experiment: artifact_location='file:///Users/manuelmontoya/Documents/sessions/mlflow-experiments/mlruns/215632926819643538', creation_time=1708922702191, experiment_id='215632926819643538', last_update_time=1708922702191, lifecycle_stage='active', name='beautiful experiment', tags={'mlflow.note.content': 'This experiment contains all the runs made on the '\n",
       "                         'Breit demo',\n",
       "  'project_name': 'mlflow-chemms',\n",
       "  'team': 'breit'}>,\n",
       " <Experiment: artifact_location='file:///Users/manuelmontoya/Documents/sessions/mlflow-experiments/mlruns/528260813793614722', creation_time=1708922657897, experiment_id='528260813793614722', last_update_time=1708922657897, lifecycle_stage='active', name='Experiment Chemmsito', tags={'mlflow.note.content': 'This experiment contains all the runs made on the '\n",
       "                         'Breit demo',\n",
       "  'project_name': 'mlflow-chemms',\n",
       "  'team': 'breit'}>,\n",
       " <Experiment: artifact_location='file:///Users/manuelmontoya/Documents/sessions/mlflow-experiments/mlruns/0', creation_time=None, experiment_id='0', last_update_time=None, lifecycle_stage='active', name='Default', tags={}>]"
      ]
     },
     "execution_count": 14,
     "metadata": {},
     "output_type": "execute_result"
    }
   ],
   "source": [
    "mlflow.search_experiments()"
   ]
  },
  {
   "cell_type": "code",
   "execution_count": 15,
   "metadata": {},
   "outputs": [
    {
     "data": {
      "text/html": [
       "<div>\n",
       "<style scoped>\n",
       "    .dataframe tbody tr th:only-of-type {\n",
       "        vertical-align: middle;\n",
       "    }\n",
       "\n",
       "    .dataframe tbody tr th {\n",
       "        vertical-align: top;\n",
       "    }\n",
       "\n",
       "    .dataframe thead th {\n",
       "        text-align: right;\n",
       "    }\n",
       "</style>\n",
       "<table border=\"1\" class=\"dataframe\">\n",
       "  <thead>\n",
       "    <tr style=\"text-align: right;\">\n",
       "      <th></th>\n",
       "      <th>run_id</th>\n",
       "      <th>experiment_id</th>\n",
       "      <th>status</th>\n",
       "      <th>artifact_uri</th>\n",
       "      <th>start_time</th>\n",
       "      <th>end_time</th>\n",
       "      <th>metrics.train_mse</th>\n",
       "      <th>metrics.test_mse</th>\n",
       "      <th>metrics.test_r2</th>\n",
       "      <th>metrics.train_r2</th>\n",
       "      <th>params.max_depth</th>\n",
       "      <th>params.n_estimators</th>\n",
       "      <th>params.max_features</th>\n",
       "      <th>tags.mlflow.source.name</th>\n",
       "      <th>tags.mlflow.source.type</th>\n",
       "      <th>tags.mlflow.runName</th>\n",
       "      <th>tags.mlflow.user</th>\n",
       "      <th>tags.mlflow.log-model.history</th>\n",
       "    </tr>\n",
       "  </thead>\n",
       "  <tbody>\n",
       "    <tr>\n",
       "      <th>0</th>\n",
       "      <td>57365c0445c34b5eaf2c423516cc57eb</td>\n",
       "      <td>0</td>\n",
       "      <td>FINISHED</td>\n",
       "      <td>file:///Users/manuelmontoya/Documents/sessions...</td>\n",
       "      <td>2024-02-26 04:43:39.469000+00:00</td>\n",
       "      <td>2024-02-26 04:43:40.726000+00:00</td>\n",
       "      <td>489.632124</td>\n",
       "      <td>3304.188959</td>\n",
       "      <td>0.415436</td>\n",
       "      <td>0.917762</td>\n",
       "      <td>20</td>\n",
       "      <td>100</td>\n",
       "      <td>10</td>\n",
       "      <td>/Users/manuelmontoya/anaconda3/envs/flow-env/l...</td>\n",
       "      <td>LOCAL</td>\n",
       "      <td>unleashed-grub-740</td>\n",
       "      <td>manuelmontoya</td>\n",
       "      <td>[{\"run_id\": \"57365c0445c34b5eaf2c423516cc57eb\"...</td>\n",
       "    </tr>\n",
       "    <tr>\n",
       "      <th>1</th>\n",
       "      <td>e3d7fe95a0ff412a934814fbc39d14fd</td>\n",
       "      <td>0</td>\n",
       "      <td>FINISHED</td>\n",
       "      <td>file:///Users/manuelmontoya/Documents/sessions...</td>\n",
       "      <td>2024-02-26 04:43:34.462000+00:00</td>\n",
       "      <td>2024-02-26 04:43:36.116000+00:00</td>\n",
       "      <td>1317.176748</td>\n",
       "      <td>3314.804295</td>\n",
       "      <td>0.457672</td>\n",
       "      <td>0.775561</td>\n",
       "      <td>6</td>\n",
       "      <td>100</td>\n",
       "      <td>3</td>\n",
       "      <td>/Users/manuelmontoya/anaconda3/envs/flow-env/l...</td>\n",
       "      <td>LOCAL</td>\n",
       "      <td>first-model-log</td>\n",
       "      <td>manuelmontoya</td>\n",
       "      <td>[{\"run_id\": \"e3d7fe95a0ff412a934814fbc39d14fd\"...</td>\n",
       "    </tr>\n",
       "    <tr>\n",
       "      <th>2</th>\n",
       "      <td>44b28d00567740c4869a7bc97628751e</td>\n",
       "      <td>0</td>\n",
       "      <td>FINISHED</td>\n",
       "      <td>file:///Users/manuelmontoya/Documents/sessions...</td>\n",
       "      <td>2024-02-26 04:29:57.298000+00:00</td>\n",
       "      <td>2024-02-26 04:29:58.722000+00:00</td>\n",
       "      <td>1305.090783</td>\n",
       "      <td>3087.453082</td>\n",
       "      <td>0.487491</td>\n",
       "      <td>0.778694</td>\n",
       "      <td>6</td>\n",
       "      <td>100</td>\n",
       "      <td>3</td>\n",
       "      <td>/Users/manuelmontoya/anaconda3/envs/flow-env/l...</td>\n",
       "      <td>LOCAL</td>\n",
       "      <td>first-model-log</td>\n",
       "      <td>manuelmontoya</td>\n",
       "      <td>[{\"run_id\": \"44b28d00567740c4869a7bc97628751e\"...</td>\n",
       "    </tr>\n",
       "    <tr>\n",
       "      <th>3</th>\n",
       "      <td>274c0bef7cb743c29f22d12be3e34801</td>\n",
       "      <td>0</td>\n",
       "      <td>FAILED</td>\n",
       "      <td>file:///Users/manuelmontoya/Documents/sessions...</td>\n",
       "      <td>2024-02-26 04:29:42.415000+00:00</td>\n",
       "      <td>2024-02-26 04:29:42.526000+00:00</td>\n",
       "      <td>NaN</td>\n",
       "      <td>NaN</td>\n",
       "      <td>NaN</td>\n",
       "      <td>NaN</td>\n",
       "      <td>None</td>\n",
       "      <td>None</td>\n",
       "      <td>None</td>\n",
       "      <td>/Users/manuelmontoya/anaconda3/envs/flow-env/l...</td>\n",
       "      <td>LOCAL</td>\n",
       "      <td>first-model-log</td>\n",
       "      <td>manuelmontoya</td>\n",
       "      <td>None</td>\n",
       "    </tr>\n",
       "    <tr>\n",
       "      <th>4</th>\n",
       "      <td>a04c4a7d17024902a6b17b50774f3c21</td>\n",
       "      <td>0</td>\n",
       "      <td>FAILED</td>\n",
       "      <td>file:///Users/manuelmontoya/Documents/sessions...</td>\n",
       "      <td>2024-02-26 04:25:47.829000+00:00</td>\n",
       "      <td>2024-02-26 04:25:47.924000+00:00</td>\n",
       "      <td>NaN</td>\n",
       "      <td>NaN</td>\n",
       "      <td>NaN</td>\n",
       "      <td>NaN</td>\n",
       "      <td>None</td>\n",
       "      <td>None</td>\n",
       "      <td>None</td>\n",
       "      <td>/Users/manuelmontoya/anaconda3/envs/flow-env/l...</td>\n",
       "      <td>LOCAL</td>\n",
       "      <td>first-model-log</td>\n",
       "      <td>manuelmontoya</td>\n",
       "      <td>None</td>\n",
       "    </tr>\n",
       "    <tr>\n",
       "      <th>5</th>\n",
       "      <td>26a58baaa1a74854903d6dd65f6b1bf9</td>\n",
       "      <td>0</td>\n",
       "      <td>FAILED</td>\n",
       "      <td>file:///Users/manuelmontoya/Documents/sessions...</td>\n",
       "      <td>2024-02-26 04:24:42.903000+00:00</td>\n",
       "      <td>2024-02-26 04:24:42.995000+00:00</td>\n",
       "      <td>NaN</td>\n",
       "      <td>NaN</td>\n",
       "      <td>NaN</td>\n",
       "      <td>NaN</td>\n",
       "      <td>None</td>\n",
       "      <td>None</td>\n",
       "      <td>None</td>\n",
       "      <td>/Users/manuelmontoya/anaconda3/envs/flow-env/l...</td>\n",
       "      <td>LOCAL</td>\n",
       "      <td>first-model-log</td>\n",
       "      <td>manuelmontoya</td>\n",
       "      <td>None</td>\n",
       "    </tr>\n",
       "  </tbody>\n",
       "</table>\n",
       "</div>"
      ],
      "text/plain": [
       "                             run_id experiment_id    status  \\\n",
       "0  57365c0445c34b5eaf2c423516cc57eb             0  FINISHED   \n",
       "1  e3d7fe95a0ff412a934814fbc39d14fd             0  FINISHED   \n",
       "2  44b28d00567740c4869a7bc97628751e             0  FINISHED   \n",
       "3  274c0bef7cb743c29f22d12be3e34801             0    FAILED   \n",
       "4  a04c4a7d17024902a6b17b50774f3c21             0    FAILED   \n",
       "5  26a58baaa1a74854903d6dd65f6b1bf9             0    FAILED   \n",
       "\n",
       "                                        artifact_uri  \\\n",
       "0  file:///Users/manuelmontoya/Documents/sessions...   \n",
       "1  file:///Users/manuelmontoya/Documents/sessions...   \n",
       "2  file:///Users/manuelmontoya/Documents/sessions...   \n",
       "3  file:///Users/manuelmontoya/Documents/sessions...   \n",
       "4  file:///Users/manuelmontoya/Documents/sessions...   \n",
       "5  file:///Users/manuelmontoya/Documents/sessions...   \n",
       "\n",
       "                        start_time                         end_time  \\\n",
       "0 2024-02-26 04:43:39.469000+00:00 2024-02-26 04:43:40.726000+00:00   \n",
       "1 2024-02-26 04:43:34.462000+00:00 2024-02-26 04:43:36.116000+00:00   \n",
       "2 2024-02-26 04:29:57.298000+00:00 2024-02-26 04:29:58.722000+00:00   \n",
       "3 2024-02-26 04:29:42.415000+00:00 2024-02-26 04:29:42.526000+00:00   \n",
       "4 2024-02-26 04:25:47.829000+00:00 2024-02-26 04:25:47.924000+00:00   \n",
       "5 2024-02-26 04:24:42.903000+00:00 2024-02-26 04:24:42.995000+00:00   \n",
       "\n",
       "   metrics.train_mse  metrics.test_mse  metrics.test_r2  metrics.train_r2  \\\n",
       "0         489.632124       3304.188959         0.415436          0.917762   \n",
       "1        1317.176748       3314.804295         0.457672          0.775561   \n",
       "2        1305.090783       3087.453082         0.487491          0.778694   \n",
       "3                NaN               NaN              NaN               NaN   \n",
       "4                NaN               NaN              NaN               NaN   \n",
       "5                NaN               NaN              NaN               NaN   \n",
       "\n",
       "  params.max_depth params.n_estimators params.max_features  \\\n",
       "0               20                 100                  10   \n",
       "1                6                 100                   3   \n",
       "2                6                 100                   3   \n",
       "3             None                None                None   \n",
       "4             None                None                None   \n",
       "5             None                None                None   \n",
       "\n",
       "                             tags.mlflow.source.name tags.mlflow.source.type  \\\n",
       "0  /Users/manuelmontoya/anaconda3/envs/flow-env/l...                   LOCAL   \n",
       "1  /Users/manuelmontoya/anaconda3/envs/flow-env/l...                   LOCAL   \n",
       "2  /Users/manuelmontoya/anaconda3/envs/flow-env/l...                   LOCAL   \n",
       "3  /Users/manuelmontoya/anaconda3/envs/flow-env/l...                   LOCAL   \n",
       "4  /Users/manuelmontoya/anaconda3/envs/flow-env/l...                   LOCAL   \n",
       "5  /Users/manuelmontoya/anaconda3/envs/flow-env/l...                   LOCAL   \n",
       "\n",
       "  tags.mlflow.runName tags.mlflow.user  \\\n",
       "0  unleashed-grub-740    manuelmontoya   \n",
       "1     first-model-log    manuelmontoya   \n",
       "2     first-model-log    manuelmontoya   \n",
       "3     first-model-log    manuelmontoya   \n",
       "4     first-model-log    manuelmontoya   \n",
       "5     first-model-log    manuelmontoya   \n",
       "\n",
       "                       tags.mlflow.log-model.history  \n",
       "0  [{\"run_id\": \"57365c0445c34b5eaf2c423516cc57eb\"...  \n",
       "1  [{\"run_id\": \"e3d7fe95a0ff412a934814fbc39d14fd\"...  \n",
       "2  [{\"run_id\": \"44b28d00567740c4869a7bc97628751e\"...  \n",
       "3                                               None  \n",
       "4                                               None  \n",
       "5                                               None  "
      ]
     },
     "execution_count": 15,
     "metadata": {},
     "output_type": "execute_result"
    }
   ],
   "source": [
    "mlflow.search_runs(experiment_names=['Default'])"
   ]
  },
  {
   "cell_type": "code",
   "execution_count": 17,
   "metadata": {},
   "outputs": [
    {
     "data": {
      "text/plain": [
       "'af179ea022164d2e8862bdae3722f7f6'"
      ]
     },
     "execution_count": 17,
     "metadata": {},
     "output_type": "execute_result"
    }
   ],
   "source": [
    "last_run_id = mlflow.search_runs(experiment_names=[experiment_name]).loc[0, 'run_id']\n",
    "last_run_id"
   ]
  },
  {
   "cell_type": "code",
   "execution_count": 18,
   "metadata": {},
   "outputs": [
    {
     "data": {
      "text/plain": [
       "<Run: data=<RunData: metrics={'test_mse': 3097.4567541759734,\n",
       " 'test_r2': 0.459545234784999,\n",
       " 'train_mse': 503.5982745674438,\n",
       " 'train_r2': 0.9159479419274605}, params={'max_depth': '20', 'max_features': '10', 'n_estimators': '100'}, tags={'mlflow.log-model.history': '[{\"run_id\": \"af179ea022164d2e8862bdae3722f7f6\", '\n",
       "                             '\"artifact_path\": \"random_forest\", '\n",
       "                             '\"utc_time_created\": \"2024-02-26 '\n",
       "                             '04:45:21.565849\", \"flavors\": {\"python_function\": '\n",
       "                             '{\"model_path\": \"model.pkl\", \"predict_fn\": '\n",
       "                             '\"predict\", \"loader_module\": \"mlflow.sklearn\", '\n",
       "                             '\"python_version\": \"3.10.13\", \"env\": {\"conda\": '\n",
       "                             '\"conda.yaml\", \"virtualenv\": \"python_env.yaml\"}}, '\n",
       "                             '\"sklearn\": {\"pickled_model\": \"model.pkl\", '\n",
       "                             '\"sklearn_version\": \"1.3.0\", '\n",
       "                             '\"serialization_format\": \"cloudpickle\", \"code\": '\n",
       "                             'null}}, \"model_uuid\": '\n",
       "                             '\"292d3ef2a2104dbbbc7c7fd947b863ac\", '\n",
       "                             '\"mlflow_version\": \"2.10.2\", \"model_size_bytes\": '\n",
       "                             '2952065}]',\n",
       " 'mlflow.runName': 'popular-perch-342',\n",
       " 'mlflow.source.name': '/Users/manuelmontoya/anaconda3/envs/flow-env/lib/python3.10/site-packages/ipykernel_launcher.py',\n",
       " 'mlflow.source.type': 'LOCAL',\n",
       " 'mlflow.user': 'manuelmontoya'}>, info=<RunInfo: artifact_uri='file:///Users/manuelmontoya/Documents/sessions/mlflow-experiments/mlruns/215632926819643538/af179ea022164d2e8862bdae3722f7f6/artifacts', end_time=1708922723040, experiment_id='215632926819643538', lifecycle_stage='active', run_id='af179ea022164d2e8862bdae3722f7f6', run_name='popular-perch-342', run_uuid='af179ea022164d2e8862bdae3722f7f6', start_time=1708922721385, status='FINISHED', user_id='manuelmontoya'>, inputs=<RunInputs: dataset_inputs=[]>>"
      ]
     },
     "execution_count": 18,
     "metadata": {},
     "output_type": "execute_result"
    }
   ],
   "source": [
    "run = mlflow.get_run(run_id=last_run_id)\n",
    "run"
   ]
  },
  {
   "cell_type": "code",
   "execution_count": 19,
   "metadata": {},
   "outputs": [
    {
     "data": {
      "text/plain": [
       "{'test_r2': 0.459545234784999,\n",
       " 'train_mse': 503.5982745674438,\n",
       " 'test_mse': 3097.4567541759734,\n",
       " 'train_r2': 0.9159479419274605}"
      ]
     },
     "execution_count": 19,
     "metadata": {},
     "output_type": "execute_result"
    }
   ],
   "source": [
    "run.data.metrics"
   ]
  },
  {
   "cell_type": "code",
   "execution_count": 20,
   "metadata": {},
   "outputs": [
    {
     "data": {
      "text/plain": [
       "{'max_depth': '20', 'n_estimators': '100', 'max_features': '10'}"
      ]
     },
     "execution_count": 20,
     "metadata": {},
     "output_type": "execute_result"
    }
   ],
   "source": [
    "run.data.params"
   ]
  },
  {
   "cell_type": "code",
   "execution_count": 21,
   "metadata": {},
   "outputs": [
    {
     "data": {
      "text/html": [
       "<style>#sk-container-id-1 {color: black;}#sk-container-id-1 pre{padding: 0;}#sk-container-id-1 div.sk-toggleable {background-color: white;}#sk-container-id-1 label.sk-toggleable__label {cursor: pointer;display: block;width: 100%;margin-bottom: 0;padding: 0.3em;box-sizing: border-box;text-align: center;}#sk-container-id-1 label.sk-toggleable__label-arrow:before {content: \"▸\";float: left;margin-right: 0.25em;color: #696969;}#sk-container-id-1 label.sk-toggleable__label-arrow:hover:before {color: black;}#sk-container-id-1 div.sk-estimator:hover label.sk-toggleable__label-arrow:before {color: black;}#sk-container-id-1 div.sk-toggleable__content {max-height: 0;max-width: 0;overflow: hidden;text-align: left;background-color: #f0f8ff;}#sk-container-id-1 div.sk-toggleable__content pre {margin: 0.2em;color: black;border-radius: 0.25em;background-color: #f0f8ff;}#sk-container-id-1 input.sk-toggleable__control:checked~div.sk-toggleable__content {max-height: 200px;max-width: 100%;overflow: auto;}#sk-container-id-1 input.sk-toggleable__control:checked~label.sk-toggleable__label-arrow:before {content: \"▾\";}#sk-container-id-1 div.sk-estimator input.sk-toggleable__control:checked~label.sk-toggleable__label {background-color: #d4ebff;}#sk-container-id-1 div.sk-label input.sk-toggleable__control:checked~label.sk-toggleable__label {background-color: #d4ebff;}#sk-container-id-1 input.sk-hidden--visually {border: 0;clip: rect(1px 1px 1px 1px);clip: rect(1px, 1px, 1px, 1px);height: 1px;margin: -1px;overflow: hidden;padding: 0;position: absolute;width: 1px;}#sk-container-id-1 div.sk-estimator {font-family: monospace;background-color: #f0f8ff;border: 1px dotted black;border-radius: 0.25em;box-sizing: border-box;margin-bottom: 0.5em;}#sk-container-id-1 div.sk-estimator:hover {background-color: #d4ebff;}#sk-container-id-1 div.sk-parallel-item::after {content: \"\";width: 100%;border-bottom: 1px solid gray;flex-grow: 1;}#sk-container-id-1 div.sk-label:hover label.sk-toggleable__label {background-color: #d4ebff;}#sk-container-id-1 div.sk-serial::before {content: \"\";position: absolute;border-left: 1px solid gray;box-sizing: border-box;top: 0;bottom: 0;left: 50%;z-index: 0;}#sk-container-id-1 div.sk-serial {display: flex;flex-direction: column;align-items: center;background-color: white;padding-right: 0.2em;padding-left: 0.2em;position: relative;}#sk-container-id-1 div.sk-item {position: relative;z-index: 1;}#sk-container-id-1 div.sk-parallel {display: flex;align-items: stretch;justify-content: center;background-color: white;position: relative;}#sk-container-id-1 div.sk-item::before, #sk-container-id-1 div.sk-parallel-item::before {content: \"\";position: absolute;border-left: 1px solid gray;box-sizing: border-box;top: 0;bottom: 0;left: 50%;z-index: -1;}#sk-container-id-1 div.sk-parallel-item {display: flex;flex-direction: column;z-index: 1;position: relative;background-color: white;}#sk-container-id-1 div.sk-parallel-item:first-child::after {align-self: flex-end;width: 50%;}#sk-container-id-1 div.sk-parallel-item:last-child::after {align-self: flex-start;width: 50%;}#sk-container-id-1 div.sk-parallel-item:only-child::after {width: 0;}#sk-container-id-1 div.sk-dashed-wrapped {border: 1px dashed gray;margin: 0 0.4em 0.5em 0.4em;box-sizing: border-box;padding-bottom: 0.4em;background-color: white;}#sk-container-id-1 div.sk-label label {font-family: monospace;font-weight: bold;display: inline-block;line-height: 1.2em;}#sk-container-id-1 div.sk-label-container {text-align: center;}#sk-container-id-1 div.sk-container {/* jupyter's `normalize.less` sets `[hidden] { display: none; }` but bootstrap.min.css set `[hidden] { display: none !important; }` so we also need the `!important` here to be able to override the default hidden behavior on the sphinx rendered scikit-learn.org. See: https://github.com/scikit-learn/scikit-learn/issues/21755 */display: inline-block !important;position: relative;}#sk-container-id-1 div.sk-text-repr-fallback {display: none;}</style><div id=\"sk-container-id-1\" class=\"sk-top-container\"><div class=\"sk-text-repr-fallback\"><pre>RandomForestRegressor(max_depth=20, max_features=10)</pre><b>In a Jupyter environment, please rerun this cell to show the HTML representation or trust the notebook. <br />On GitHub, the HTML representation is unable to render, please try loading this page with nbviewer.org.</b></div><div class=\"sk-container\" hidden><div class=\"sk-item\"><div class=\"sk-estimator sk-toggleable\"><input class=\"sk-toggleable__control sk-hidden--visually\" id=\"sk-estimator-id-1\" type=\"checkbox\" checked><label for=\"sk-estimator-id-1\" class=\"sk-toggleable__label sk-toggleable__label-arrow\">RandomForestRegressor</label><div class=\"sk-toggleable__content\"><pre>RandomForestRegressor(max_depth=20, max_features=10)</pre></div></div></div></div></div>"
      ],
      "text/plain": [
       "RandomForestRegressor(max_depth=20, max_features=10)"
      ]
     },
     "execution_count": 21,
     "metadata": {},
     "output_type": "execute_result"
    }
   ],
   "source": [
    "model_uri = f'runs:/{last_run_id}/random_forest'\n",
    "loaded_model = mlflow.sklearn.load_model(model_uri)\n",
    "loaded_model"
   ]
  },
  {
   "cell_type": "code",
   "execution_count": 22,
   "metadata": {},
   "outputs": [
    {
     "data": {
      "text/plain": [
       "(array(['age', 'sex', 'bmi', 'bp', 's1', 's2', 's3', 's4', 's5', 's6'],\n",
       "       dtype=object),\n",
       " array([0.04499268, 0.00866551, 0.26052893, 0.09104331, 0.05394441,\n",
       "        0.05249835, 0.07061081, 0.02510575, 0.31527784, 0.0773324 ]))"
      ]
     },
     "execution_count": 22,
     "metadata": {},
     "output_type": "execute_result"
    }
   ],
   "source": [
    "loaded_model.feature_names_in_, loaded_model.feature_importances_"
   ]
  },
  {
   "cell_type": "markdown",
   "metadata": {},
   "source": [
    "### Advanced Logging\n",
    "\n",
    "When logging a model in MLflow we only logged the model and name for the model artifact with `.log_model(model, model_name)`\n",
    "\n",
    "However, it is a best practice to also log a model signature and input example. This allows for better schema checks and, therefore, integration with automated deployment tools.\n",
    "\n",
    "**Signature**\n",
    "A model signature is just the schema of the input(s) and the output(s) of the model\n",
    "\n",
    "**Input Example**\n",
    "This is simply a few example inputs to the model. This is very useful when deploying the model to an API so we can know what the imput should look like\n",
    "\n",
    "To add these extras just user `.log_model(model, model_name, signature=signature, input_example=input_example)`\n",
    "\n",
    "You also have some advanced options for logging \n",
    "\n",
    "- **mlflow.shap**: Automatically calculates and logs Shapley feature importance plots\n",
    "- **mlflow.log_artifact**: Log tables or \n",
    "- **mlflow.log_figure**: Logs matplotlib and plotly plots\n",
    "\n",
    "Also, you can set up the active experiment just once and forget about it"
   ]
  },
  {
   "cell_type": "code",
   "execution_count": 23,
   "metadata": {},
   "outputs": [
    {
     "data": {
      "text/plain": [
       "<Experiment: artifact_location='file:///Users/manuelmontoya/Documents/sessions/mlflow-experiments/mlruns/215632926819643538', creation_time=1708922702191, experiment_id='215632926819643538', last_update_time=1708922702191, lifecycle_stage='active', name='beautiful experiment', tags={'mlflow.note.content': 'This experiment contains all the runs made on the '\n",
       "                        'Breit demo',\n",
       " 'project_name': 'mlflow-chemms',\n",
       " 'team': 'breit'}>"
      ]
     },
     "execution_count": 23,
     "metadata": {},
     "output_type": "execute_result"
    }
   ],
   "source": [
    "mlflow.set_experiment(experiment_name=experiment_name)"
   ]
  },
  {
   "cell_type": "code",
   "execution_count": 24,
   "metadata": {},
   "outputs": [
    {
     "name": "stdout",
     "output_type": "stream",
     "text": [
      "Inside run ID: 251c70d60c474c08a86e0c6d4a9331f1\n"
     ]
    },
    {
     "data": {
      "image/png": "[encoded data removed]",
      "text/plain": [
       "<Figure size 640x480 with 1 Axes>"
      ]
     },
     "metadata": {},
     "output_type": "display_data"
    }
   ],
   "source": [
    "from mlflow.models.signature import infer_signature\n",
    "\n",
    "with mlflow.start_run(run_name='complete_run') as run:\n",
    "\n",
    "    print(f\"Inside run ID: {run.info.run_id}\")\n",
    "\n",
    "    # Load dataset\n",
    "    db = load_diabetes(as_frame=True)\n",
    "    X_train, X_test, y_train, y_test = train_test_split(db.data, db.target)\n",
    "\n",
    "    # Create and train a model\n",
    "    params = {\n",
    "        \"n_estimators\": 100, \n",
    "        \"max_depth\": 20, \n",
    "        \"max_features\": 10\n",
    "    }\n",
    "\n",
    "    rf = RandomForestRegressor(**params)\n",
    "    rf.fit(X_train, y_train)\n",
    "\n",
    "    # Calculate train and test metrics\n",
    "    y_train_pred = rf.predict(X_train)\n",
    "    y_test_pred = rf.predict(X_test)\n",
    "\n",
    "    train_mse = mean_squared_error(y_train, y_train_pred)\n",
    "    test_mse = mean_squared_error(y_test, y_test_pred)\n",
    "    train_r2 = r2_score(y_train, y_train_pred)\n",
    "    test_r2 = r2_score(y_test, y_test_pred)\n",
    "\n",
    "    # log model artifact\n",
    "    signature = infer_signature(X_train, pd.DataFrame(y_train))\n",
    "    input_example = X_train.head(3)\n",
    "\n",
    "    mlflow.sklearn.log_model(\n",
    "        sk_model=rf, \n",
    "        artifact_path=\"random_forest\", \n",
    "        signature=signature, \n",
    "        input_example=input_example\n",
    "    )\n",
    "\n",
    "    # log metrics\n",
    "    metrics = {\n",
    "        \"train_mse\": train_mse,\n",
    "        \"test_mse\": test_mse,\n",
    "        \"train_r2\": train_r2,\n",
    "        \"test_r2\": test_r2,\n",
    "    }\n",
    "\n",
    "    mlflow.log_metrics(metrics)\n",
    "\n",
    "    #log parameters\n",
    "    mlflow.log_params(params)\n",
    "\n",
    "    #Log a csv file\n",
    "    df_feature_importance=pd.DataFrame({\n",
    "        'feature': X_train.columns,\n",
    "        'importance': rf.feature_importances_})\n",
    "    df_feature_importance.to_csv('feature_importance.csv')\n",
    "\n",
    "    mlflow.log_artifact('feature_importance.csv')\n",
    "\n",
    "    # Generate feature importance plot\n",
    "    feature_importances = pd.Series(rf.feature_importances_, index=X_train.columns)\n",
    "    fig, ax = plt.subplots()\n",
    "    feature_importances.plot.bar(ax=ax)\n",
    "    ax.set_title(\"Random Forest Feature importance\")\n",
    "    ax.set_ylabel(\"Importance\")\n",
    "\n",
    "    # Log figure\n",
    "    mlflow.log_figure(fig, \"feature_importance_rf.png\")"
   ]
  },
  {
   "cell_type": "markdown",
   "metadata": {},
   "source": [
    "Mlflow is awesome, right?\n",
    "\n",
    "<img src=\"https://images.squarespace-cdn.com/content/v1/53951756e4b00bb4cdae2705/1438140505820-0NLWP048BD4PQMK3Q8W0/image-asset.png\" width=\"500\">\n"
   ]
  },
  {
   "cell_type": "markdown",
   "metadata": {},
   "source": [
    "### Autologging\n",
    "You don't need to log everything **manually**, you can use `mlflow.autolog()` \n",
    "\n",
    "If autologging is set before model training, every `.fit()` triggers an experiment log that saves models, parameters and metrics. \n",
    "\n",
    "* Classification model? No problem, Mlflow logs classification metrics. \n",
    "* Regression model? Again, Mlflow logs regression metrics."
   ]
  },
  {
   "cell_type": "code",
   "execution_count": 25,
   "metadata": {},
   "outputs": [
    {
     "name": "stderr",
     "output_type": "stream",
     "text": [
      "2024/02/25 23:46:59 INFO mlflow.tracking.fluent: Autologging successfully enabled for sklearn.\n",
      "2024/02/25 23:46:59 INFO mlflow.utils.autologging_utils: Created MLflow autologging run with ID '87091cbeecea43ce987700bbb81be027', which will track hyperparameters, performance metrics, model artifacts, and lineage information for the current sklearn workflow\n"
     ]
    }
   ],
   "source": [
    "mlflow.autolog()\n",
    "\n",
    "# Load dataset\n",
    "db = load_diabetes(as_frame=True)\n",
    "X_train, X_test, y_train, y_test = train_test_split(db.data, db.target)\n",
    "\n",
    "# Create and train a model\n",
    "params = {\n",
    "    \"n_estimators\": 100, \n",
    "    \"max_depth\": 20, \n",
    "    \"max_features\": 10\n",
    "}\n",
    "\n",
    "rf = RandomForestRegressor(**params)\n",
    "rf = rf.fit(X_train, y_train)"
   ]
  },
  {
   "cell_type": "markdown",
   "metadata": {},
   "source": [
    "<img src='https://mlflow.org/docs/latest/_images/autologging-intro.png' width=750>"
   ]
  },
  {
   "cell_type": "markdown",
   "metadata": {},
   "source": [
    "### Nested runs\n",
    "<img src='https://encrypted-tbn0.gstatic.com/images?q=tbn:ANd9GcQEqoUokNZSLGJcIcYxX7ej3B5vQM8OB_dUYRC2hThnILcJ4Zw8p6r4zAxIoxjXFsZw_Xs&usqp=CAU' width=500>\n",
    "\n",
    "*Yo dawg I heard you like Mlflow runs, so we put an Mlflow run inside your Mlflow run*"
   ]
  },
  {
   "cell_type": "code",
   "execution_count": 26,
   "metadata": {},
   "outputs": [],
   "source": [
    "with mlflow.start_run(run_name=\"Nested Example\") as run:\n",
    "    \n",
    "    with mlflow.start_run(run_name=\"first child\", nested=True):\n",
    "        mlflow.log_param(\"run_name\", \"first\")\n",
    "\n",
    "    with mlflow.start_run(run_name=\"second child\", nested=True):\n",
    "        mlflow.log_param(\"run_name\", \"second\")"
   ]
  },
  {
   "cell_type": "markdown",
   "metadata": {},
   "source": [
    "With nested runs,, you create parent runs and child runs in a tree structure. \n",
    "\n",
    "In the MLflow UI, you can click on a parent run to expand it and see the child runs.\n",
    "\n",
    "This is **very** useful when doing \n",
    "- **hyperparameter tuning**, you can nest all associated model runs under a parent run to better organize and compare hyperparameters.\n",
    "- **iterative training**, such as neural networks, matrix factorization models, you can checkpoint results after n epochs to save the model and related metrics\n"
   ]
  },
  {
   "cell_type": "markdown",
   "metadata": {},
   "source": [
    "By using autologging during a hyperparameter tuning process, nested runs are created automatically"
   ]
  },
  {
   "cell_type": "code",
   "execution_count": 27,
   "metadata": {},
   "outputs": [
    {
     "name": "stderr",
     "output_type": "stream",
     "text": [
      "2024/02/25 23:47:08 INFO mlflow.utils.autologging_utils: Created MLflow autologging run with ID 'aa3ac5e5f90c4ba0bfad31ac72be9ce1', which will track hyperparameters, performance metrics, model artifacts, and lineage information for the current sklearn workflow\n",
      "2024/02/25 23:47:17 INFO mlflow.sklearn.utils: Logging the 5 best runs, 4 runs will be omitted.\n"
     ]
    },
    {
     "data": {
      "text/html": [
       "<style>#sk-container-id-4 {color: black;}#sk-container-id-4 pre{padding: 0;}#sk-container-id-4 div.sk-toggleable {background-color: white;}#sk-container-id-4 label.sk-toggleable__label {cursor: pointer;display: block;width: 100%;margin-bottom: 0;padding: 0.3em;box-sizing: border-box;text-align: center;}#sk-container-id-4 label.sk-toggleable__label-arrow:before {content: \"▸\";float: left;margin-right: 0.25em;color: #696969;}#sk-container-id-4 label.sk-toggleable__label-arrow:hover:before {color: black;}#sk-container-id-4 div.sk-estimator:hover label.sk-toggleable__label-arrow:before {color: black;}#sk-container-id-4 div.sk-toggleable__content {max-height: 0;max-width: 0;overflow: hidden;text-align: left;background-color: #f0f8ff;}#sk-container-id-4 div.sk-toggleable__content pre {margin: 0.2em;color: black;border-radius: 0.25em;background-color: #f0f8ff;}#sk-container-id-4 input.sk-toggleable__control:checked~div.sk-toggleable__content {max-height: 200px;max-width: 100%;overflow: auto;}#sk-container-id-4 input.sk-toggleable__control:checked~label.sk-toggleable__label-arrow:before {content: \"▾\";}#sk-container-id-4 div.sk-estimator input.sk-toggleable__control:checked~label.sk-toggleable__label {background-color: #d4ebff;}#sk-container-id-4 div.sk-label input.sk-toggleable__control:checked~label.sk-toggleable__label {background-color: #d4ebff;}#sk-container-id-4 input.sk-hidden--visually {border: 0;clip: rect(1px 1px 1px 1px);clip: rect(1px, 1px, 1px, 1px);height: 1px;margin: -1px;overflow: hidden;padding: 0;position: absolute;width: 1px;}#sk-container-id-4 div.sk-estimator {font-family: monospace;background-color: #f0f8ff;border: 1px dotted black;border-radius: 0.25em;box-sizing: border-box;margin-bottom: 0.5em;}#sk-container-id-4 div.sk-estimator:hover {background-color: #d4ebff;}#sk-container-id-4 div.sk-parallel-item::after {content: \"\";width: 100%;border-bottom: 1px solid gray;flex-grow: 1;}#sk-container-id-4 div.sk-label:hover label.sk-toggleable__label {background-color: #d4ebff;}#sk-container-id-4 div.sk-serial::before {content: \"\";position: absolute;border-left: 1px solid gray;box-sizing: border-box;top: 0;bottom: 0;left: 50%;z-index: 0;}#sk-container-id-4 div.sk-serial {display: flex;flex-direction: column;align-items: center;background-color: white;padding-right: 0.2em;padding-left: 0.2em;position: relative;}#sk-container-id-4 div.sk-item {position: relative;z-index: 1;}#sk-container-id-4 div.sk-parallel {display: flex;align-items: stretch;justify-content: center;background-color: white;position: relative;}#sk-container-id-4 div.sk-item::before, #sk-container-id-4 div.sk-parallel-item::before {content: \"\";position: absolute;border-left: 1px solid gray;box-sizing: border-box;top: 0;bottom: 0;left: 50%;z-index: -1;}#sk-container-id-4 div.sk-parallel-item {display: flex;flex-direction: column;z-index: 1;position: relative;background-color: white;}#sk-container-id-4 div.sk-parallel-item:first-child::after {align-self: flex-end;width: 50%;}#sk-container-id-4 div.sk-parallel-item:last-child::after {align-self: flex-start;width: 50%;}#sk-container-id-4 div.sk-parallel-item:only-child::after {width: 0;}#sk-container-id-4 div.sk-dashed-wrapped {border: 1px dashed gray;margin: 0 0.4em 0.5em 0.4em;box-sizing: border-box;padding-bottom: 0.4em;background-color: white;}#sk-container-id-4 div.sk-label label {font-family: monospace;font-weight: bold;display: inline-block;line-height: 1.2em;}#sk-container-id-4 div.sk-label-container {text-align: center;}#sk-container-id-4 div.sk-container {/* jupyter's `normalize.less` sets `[hidden] { display: none; }` but bootstrap.min.css set `[hidden] { display: none !important; }` so we also need the `!important` here to be able to override the default hidden behavior on the sphinx rendered scikit-learn.org. See: https://github.com/scikit-learn/scikit-learn/issues/21755 */display: inline-block !important;position: relative;}#sk-container-id-4 div.sk-text-repr-fallback {display: none;}</style><div id=\"sk-container-id-4\" class=\"sk-top-container\"><div class=\"sk-text-repr-fallback\"><pre>GridSearchCV(estimator=RandomForestRegressor(),\n",
       "             param_grid={&#x27;max_depth&#x27;: [5, 10, 20], &#x27;max_features&#x27;: [10],\n",
       "                         &#x27;n_estimators&#x27;: [50, 100, 200]},\n",
       "             scoring=&#x27;r2&#x27;)</pre><b>In a Jupyter environment, please rerun this cell to show the HTML representation or trust the notebook. <br />On GitHub, the HTML representation is unable to render, please try loading this page with nbviewer.org.</b></div><div class=\"sk-container\" hidden><div class=\"sk-item sk-dashed-wrapped\"><div class=\"sk-label-container\"><div class=\"sk-label sk-toggleable\"><input class=\"sk-toggleable__control sk-hidden--visually\" id=\"sk-estimator-id-6\" type=\"checkbox\" ><label for=\"sk-estimator-id-6\" class=\"sk-toggleable__label sk-toggleable__label-arrow\">GridSearchCV</label><div class=\"sk-toggleable__content\"><pre>GridSearchCV(estimator=RandomForestRegressor(),\n",
       "             param_grid={&#x27;max_depth&#x27;: [5, 10, 20], &#x27;max_features&#x27;: [10],\n",
       "                         &#x27;n_estimators&#x27;: [50, 100, 200]},\n",
       "             scoring=&#x27;r2&#x27;)</pre></div></div></div><div class=\"sk-parallel\"><div class=\"sk-parallel-item\"><div class=\"sk-item\"><div class=\"sk-label-container\"><div class=\"sk-label sk-toggleable\"><input class=\"sk-toggleable__control sk-hidden--visually\" id=\"sk-estimator-id-7\" type=\"checkbox\" ><label for=\"sk-estimator-id-7\" class=\"sk-toggleable__label sk-toggleable__label-arrow\">estimator: RandomForestRegressor</label><div class=\"sk-toggleable__content\"><pre>RandomForestRegressor()</pre></div></div></div><div class=\"sk-serial\"><div class=\"sk-item\"><div class=\"sk-estimator sk-toggleable\"><input class=\"sk-toggleable__control sk-hidden--visually\" id=\"sk-estimator-id-8\" type=\"checkbox\" ><label for=\"sk-estimator-id-8\" class=\"sk-toggleable__label sk-toggleable__label-arrow\">RandomForestRegressor</label><div class=\"sk-toggleable__content\"><pre>RandomForestRegressor()</pre></div></div></div></div></div></div></div></div></div></div>"
      ],
      "text/plain": [
       "GridSearchCV(estimator=RandomForestRegressor(),\n",
       "             param_grid={'max_depth': [5, 10, 20], 'max_features': [10],\n",
       "                         'n_estimators': [50, 100, 200]},\n",
       "             scoring='r2')"
      ]
     },
     "execution_count": 27,
     "metadata": {},
     "output_type": "execute_result"
    }
   ],
   "source": [
    "from sklearn.model_selection import GridSearchCV\n",
    "\n",
    "mlflow.sklearn.autolog()\n",
    "\n",
    "# Load dataset\n",
    "db = load_diabetes(as_frame=True)\n",
    "X_train, X_test, y_train, y_test = train_test_split(db.data, db.target)\n",
    "\n",
    "# Create and train a model\n",
    "param_grid = {\n",
    "    \"n_estimators\": [50, 100, 200],\n",
    "    \"max_depth\": [5, 10, 20],\n",
    "    \"max_features\": [10]\n",
    "}\n",
    "\n",
    "gs=GridSearchCV(estimator=RandomForestRegressor(), param_grid=param_grid, scoring='r2')\n",
    "gs.fit(X_train, y_train)"
   ]
  },
  {
   "cell_type": "code",
   "execution_count": 43,
   "metadata": {},
   "outputs": [],
   "source": [
    "#replace here your parent run_id\n",
    "run_id = 'aa3ac5e5f90c4ba0bfad31ac72be9ce1'"
   ]
  },
  {
   "cell_type": "code",
   "execution_count": 44,
   "metadata": {},
   "outputs": [
    {
     "data": {
      "text/html": [
       "<style>#sk-container-id-5 {color: black;}#sk-container-id-5 pre{padding: 0;}#sk-container-id-5 div.sk-toggleable {background-color: white;}#sk-container-id-5 label.sk-toggleable__label {cursor: pointer;display: block;width: 100%;margin-bottom: 0;padding: 0.3em;box-sizing: border-box;text-align: center;}#sk-container-id-5 label.sk-toggleable__label-arrow:before {content: \"▸\";float: left;margin-right: 0.25em;color: #696969;}#sk-container-id-5 label.sk-toggleable__label-arrow:hover:before {color: black;}#sk-container-id-5 div.sk-estimator:hover label.sk-toggleable__label-arrow:before {color: black;}#sk-container-id-5 div.sk-toggleable__content {max-height: 0;max-width: 0;overflow: hidden;text-align: left;background-color: #f0f8ff;}#sk-container-id-5 div.sk-toggleable__content pre {margin: 0.2em;color: black;border-radius: 0.25em;background-color: #f0f8ff;}#sk-container-id-5 input.sk-toggleable__control:checked~div.sk-toggleable__content {max-height: 200px;max-width: 100%;overflow: auto;}#sk-container-id-5 input.sk-toggleable__control:checked~label.sk-toggleable__label-arrow:before {content: \"▾\";}#sk-container-id-5 div.sk-estimator input.sk-toggleable__control:checked~label.sk-toggleable__label {background-color: #d4ebff;}#sk-container-id-5 div.sk-label input.sk-toggleable__control:checked~label.sk-toggleable__label {background-color: #d4ebff;}#sk-container-id-5 input.sk-hidden--visually {border: 0;clip: rect(1px 1px 1px 1px);clip: rect(1px, 1px, 1px, 1px);height: 1px;margin: -1px;overflow: hidden;padding: 0;position: absolute;width: 1px;}#sk-container-id-5 div.sk-estimator {font-family: monospace;background-color: #f0f8ff;border: 1px dotted black;border-radius: 0.25em;box-sizing: border-box;margin-bottom: 0.5em;}#sk-container-id-5 div.sk-estimator:hover {background-color: #d4ebff;}#sk-container-id-5 div.sk-parallel-item::after {content: \"\";width: 100%;border-bottom: 1px solid gray;flex-grow: 1;}#sk-container-id-5 div.sk-label:hover label.sk-toggleable__label {background-color: #d4ebff;}#sk-container-id-5 div.sk-serial::before {content: \"\";position: absolute;border-left: 1px solid gray;box-sizing: border-box;top: 0;bottom: 0;left: 50%;z-index: 0;}#sk-container-id-5 div.sk-serial {display: flex;flex-direction: column;align-items: center;background-color: white;padding-right: 0.2em;padding-left: 0.2em;position: relative;}#sk-container-id-5 div.sk-item {position: relative;z-index: 1;}#sk-container-id-5 div.sk-parallel {display: flex;align-items: stretch;justify-content: center;background-color: white;position: relative;}#sk-container-id-5 div.sk-item::before, #sk-container-id-5 div.sk-parallel-item::before {content: \"\";position: absolute;border-left: 1px solid gray;box-sizing: border-box;top: 0;bottom: 0;left: 50%;z-index: -1;}#sk-container-id-5 div.sk-parallel-item {display: flex;flex-direction: column;z-index: 1;position: relative;background-color: white;}#sk-container-id-5 div.sk-parallel-item:first-child::after {align-self: flex-end;width: 50%;}#sk-container-id-5 div.sk-parallel-item:last-child::after {align-self: flex-start;width: 50%;}#sk-container-id-5 div.sk-parallel-item:only-child::after {width: 0;}#sk-container-id-5 div.sk-dashed-wrapped {border: 1px dashed gray;margin: 0 0.4em 0.5em 0.4em;box-sizing: border-box;padding-bottom: 0.4em;background-color: white;}#sk-container-id-5 div.sk-label label {font-family: monospace;font-weight: bold;display: inline-block;line-height: 1.2em;}#sk-container-id-5 div.sk-label-container {text-align: center;}#sk-container-id-5 div.sk-container {/* jupyter's `normalize.less` sets `[hidden] { display: none; }` but bootstrap.min.css set `[hidden] { display: none !important; }` so we also need the `!important` here to be able to override the default hidden behavior on the sphinx rendered scikit-learn.org. See: https://github.com/scikit-learn/scikit-learn/issues/21755 */display: inline-block !important;position: relative;}#sk-container-id-5 div.sk-text-repr-fallback {display: none;}</style><div id=\"sk-container-id-5\" class=\"sk-top-container\"><div class=\"sk-text-repr-fallback\"><pre>RandomForestRegressor(max_depth=5, max_features=10, n_estimators=200)</pre><b>In a Jupyter environment, please rerun this cell to show the HTML representation or trust the notebook. <br />On GitHub, the HTML representation is unable to render, please try loading this page with nbviewer.org.</b></div><div class=\"sk-container\" hidden><div class=\"sk-item\"><div class=\"sk-estimator sk-toggleable\"><input class=\"sk-toggleable__control sk-hidden--visually\" id=\"sk-estimator-id-9\" type=\"checkbox\" checked><label for=\"sk-estimator-id-9\" class=\"sk-toggleable__label sk-toggleable__label-arrow\">RandomForestRegressor</label><div class=\"sk-toggleable__content\"><pre>RandomForestRegressor(max_depth=5, max_features=10, n_estimators=200)</pre></div></div></div></div></div>"
      ],
      "text/plain": [
       "RandomForestRegressor(max_depth=5, max_features=10, n_estimators=200)"
      ]
     },
     "execution_count": 44,
     "metadata": {},
     "output_type": "execute_result"
    }
   ],
   "source": [
    "mlflow.sklearn.load_model(f'runs:/{run_id}/best_estimator')"
   ]
  },
  {
   "cell_type": "markdown",
   "metadata": {},
   "source": [
    "### Register Model \n",
    "Using the UI you can register a model artifact as a Mlflow Model.\n",
    "\n",
    "For our use case we will register the grid search best estimator as a model called `beautiful_model` and assign it the alias `@champion` in the UI.\n",
    "\n",
    "You can also promote another experiment as a new version of the model we just created. It is recommender that you also add a relevant description and alias to each registered models that serve as metadata that you can use to identify them.\n",
    "\n",
    "<img src=\"img/register_model.png\">"
   ]
  },
  {
   "cell_type": "code",
   "execution_count": 46,
   "metadata": {},
   "outputs": [
    {
     "data": {
      "text/html": [
       "<style>#sk-container-id-6 {color: black;}#sk-container-id-6 pre{padding: 0;}#sk-container-id-6 div.sk-toggleable {background-color: white;}#sk-container-id-6 label.sk-toggleable__label {cursor: pointer;display: block;width: 100%;margin-bottom: 0;padding: 0.3em;box-sizing: border-box;text-align: center;}#sk-container-id-6 label.sk-toggleable__label-arrow:before {content: \"▸\";float: left;margin-right: 0.25em;color: #696969;}#sk-container-id-6 label.sk-toggleable__label-arrow:hover:before {color: black;}#sk-container-id-6 div.sk-estimator:hover label.sk-toggleable__label-arrow:before {color: black;}#sk-container-id-6 div.sk-toggleable__content {max-height: 0;max-width: 0;overflow: hidden;text-align: left;background-color: #f0f8ff;}#sk-container-id-6 div.sk-toggleable__content pre {margin: 0.2em;color: black;border-radius: 0.25em;background-color: #f0f8ff;}#sk-container-id-6 input.sk-toggleable__control:checked~div.sk-toggleable__content {max-height: 200px;max-width: 100%;overflow: auto;}#sk-container-id-6 input.sk-toggleable__control:checked~label.sk-toggleable__label-arrow:before {content: \"▾\";}#sk-container-id-6 div.sk-estimator input.sk-toggleable__control:checked~label.sk-toggleable__label {background-color: #d4ebff;}#sk-container-id-6 div.sk-label input.sk-toggleable__control:checked~label.sk-toggleable__label {background-color: #d4ebff;}#sk-container-id-6 input.sk-hidden--visually {border: 0;clip: rect(1px 1px 1px 1px);clip: rect(1px, 1px, 1px, 1px);height: 1px;margin: -1px;overflow: hidden;padding: 0;position: absolute;width: 1px;}#sk-container-id-6 div.sk-estimator {font-family: monospace;background-color: #f0f8ff;border: 1px dotted black;border-radius: 0.25em;box-sizing: border-box;margin-bottom: 0.5em;}#sk-container-id-6 div.sk-estimator:hover {background-color: #d4ebff;}#sk-container-id-6 div.sk-parallel-item::after {content: \"\";width: 100%;border-bottom: 1px solid gray;flex-grow: 1;}#sk-container-id-6 div.sk-label:hover label.sk-toggleable__label {background-color: #d4ebff;}#sk-container-id-6 div.sk-serial::before {content: \"\";position: absolute;border-left: 1px solid gray;box-sizing: border-box;top: 0;bottom: 0;left: 50%;z-index: 0;}#sk-container-id-6 div.sk-serial {display: flex;flex-direction: column;align-items: center;background-color: white;padding-right: 0.2em;padding-left: 0.2em;position: relative;}#sk-container-id-6 div.sk-item {position: relative;z-index: 1;}#sk-container-id-6 div.sk-parallel {display: flex;align-items: stretch;justify-content: center;background-color: white;position: relative;}#sk-container-id-6 div.sk-item::before, #sk-container-id-6 div.sk-parallel-item::before {content: \"\";position: absolute;border-left: 1px solid gray;box-sizing: border-box;top: 0;bottom: 0;left: 50%;z-index: -1;}#sk-container-id-6 div.sk-parallel-item {display: flex;flex-direction: column;z-index: 1;position: relative;background-color: white;}#sk-container-id-6 div.sk-parallel-item:first-child::after {align-self: flex-end;width: 50%;}#sk-container-id-6 div.sk-parallel-item:last-child::after {align-self: flex-start;width: 50%;}#sk-container-id-6 div.sk-parallel-item:only-child::after {width: 0;}#sk-container-id-6 div.sk-dashed-wrapped {border: 1px dashed gray;margin: 0 0.4em 0.5em 0.4em;box-sizing: border-box;padding-bottom: 0.4em;background-color: white;}#sk-container-id-6 div.sk-label label {font-family: monospace;font-weight: bold;display: inline-block;line-height: 1.2em;}#sk-container-id-6 div.sk-label-container {text-align: center;}#sk-container-id-6 div.sk-container {/* jupyter's `normalize.less` sets `[hidden] { display: none; }` but bootstrap.min.css set `[hidden] { display: none !important; }` so we also need the `!important` here to be able to override the default hidden behavior on the sphinx rendered scikit-learn.org. See: https://github.com/scikit-learn/scikit-learn/issues/21755 */display: inline-block !important;position: relative;}#sk-container-id-6 div.sk-text-repr-fallback {display: none;}</style><div id=\"sk-container-id-6\" class=\"sk-top-container\"><div class=\"sk-text-repr-fallback\"><pre>RandomForestRegressor(max_depth=5, max_features=10, n_estimators=200)</pre><b>In a Jupyter environment, please rerun this cell to show the HTML representation or trust the notebook. <br />On GitHub, the HTML representation is unable to render, please try loading this page with nbviewer.org.</b></div><div class=\"sk-container\" hidden><div class=\"sk-item\"><div class=\"sk-estimator sk-toggleable\"><input class=\"sk-toggleable__control sk-hidden--visually\" id=\"sk-estimator-id-10\" type=\"checkbox\" checked><label for=\"sk-estimator-id-10\" class=\"sk-toggleable__label sk-toggleable__label-arrow\">RandomForestRegressor</label><div class=\"sk-toggleable__content\"><pre>RandomForestRegressor(max_depth=5, max_features=10, n_estimators=200)</pre></div></div></div></div></div>"
      ],
      "text/plain": [
       "RandomForestRegressor(max_depth=5, max_features=10, n_estimators=200)"
      ]
     },
     "execution_count": 46,
     "metadata": {},
     "output_type": "execute_result"
    }
   ],
   "source": [
    "mlflow.sklearn.load_model('models:/beautiful_model@champion')"
   ]
  },
  {
   "cell_type": "markdown",
   "metadata": {},
   "source": [
    "Congrats, now you know how to use Mlflow Experiments and Models. **Happy logging**"
   ]
  },
  {
   "cell_type": "markdown",
   "metadata": {},
   "source": [
    "### Model serving\n",
    "Now, we will serve our model using a local inference server (check [documentation](https://mlflow.org/docs/latest/deployment/deploy-model-locally.html?highlight=dataframe_split))\n",
    "\n",
    "`mlflow models serve --model-uri models:/beautiful_model@champion --port 1222`\n",
    "\n",
    "It will take some time to install the dependencies, but after that you should see some logs that look like this \n",
    "\n",
    "```\n",
    "[2024-02-26 00:06:40 -0500] [5064] [INFO] Starting gunicorn 21.2.0\n",
    "[2024-02-26 00:06:40 -0500] [5064] [INFO] Listening at: http://127.0.0.1:1222 (5064)\n",
    "[2024-02-26 00:06:40 -0500] [5064] [INFO] Using worker: sync\n",
    "[2024-02-26 00:06:40 -0500] [5069] [INFO] Booting worker with pid: 5069\n",
    "```\n",
    "\n",
    "If you open postman you can send some POST requests to the path `http://127.0.0.1:1222/invocations`\n",
    "\n",
    "We make sure to set up \n",
    "\n",
    "* headers\n",
    "\n",
    "<img src=\"img/post_headers.png\">\n",
    "\n",
    "* body (check that this looks like the input example of the model on the Mlflow UI)\n",
    "\n",
    "<img src=\"img/post_body.png\">\n",
    "\n",
    "After the POST we should see an output that looks like this\n",
    "\n",
    "```\n",
    "{\n",
    "    \"predictions\": [\n",
    "        163.179877111056\n",
    "    ]\n",
    "}\n",
    "```\n",
    "\n",
    "So, now you also know how to take an Mlflow model and serve it to an API endpoint on a local server.\n",
    "\n",
    "Use it for good."
   ]
  },
  {
   "cell_type": "markdown",
   "metadata": {},
   "source": []
  }
 ],
 "metadata": {
  "kernelspec": {
   "display_name": "mlflow-env",
   "language": "python",
   "name": "python3"
  },
  "language_info": {
   "codemirror_mode": {
    "name": "ipython",
    "version": 3
   },
   "file_extension": ".py",
   "mimetype": "text/x-python",
   "name": "python",
   "nbconvert_exporter": "python",
   "pygments_lexer": "ipython3",
   "version": "3.10.13"
  }
 },
 "nbformat": 4,
 "nbformat_minor": 2
}
